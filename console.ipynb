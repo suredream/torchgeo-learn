{
 "cells": [
  {
   "cell_type": "code",
   "execution_count": null,
   "metadata": {},
   "outputs": [
    {
     "ename": "",
     "evalue": "",
     "output_type": "error",
     "traceback": [
      "\u001b[1;31mFailed to connect to the remote Jupyter Server 'https://pccompute.westeurope.cloudapp.azure.com/'. Verify the server is running and reachable. (JupyterHub server no longer running at /user/jun.xiong@bayer.com/api/kernels. Restart the server at https://pccompute.westeurope.cloudapp.azure.com/compute/hub/spawn/jun.xiong@bayer.com)."
     ]
    }
   ],
   "source": [
    "df.shape"
   ]
  },
  {
   "cell_type": "code",
   "execution_count": null,
   "metadata": {},
   "outputs": [
    {
     "ename": "",
     "evalue": "",
     "output_type": "error",
     "traceback": [
      "\u001b[1;31mFailed to connect to the remote Jupyter Server 'https://pccompute.westeurope.cloudapp.azure.com/'. Verify the server is running and reachable. (JupyterHub server no longer running at /user/jun.xiong@bayer.com/api/kernels. Restart the server at https://pccompute.westeurope.cloudapp.azure.com/compute/hub/spawn/jun.xiong@bayer.com)."
     ]
    }
   ],
   "source": [
    "!pwd"
   ]
  },
  {
   "cell_type": "code",
   "execution_count": null,
   "metadata": {},
   "outputs": [
    {
     "ename": "",
     "evalue": "",
     "output_type": "error",
     "traceback": [
      "\u001b[1;31mFailed to connect to the remote Jupyter Server 'https://pccompute.westeurope.cloudapp.azure.com/'. Verify the server is running and reachable. (JupyterHub server no longer running at /user/jun.xiong@bayer.com/api/kernels. Restart the server at https://pccompute.westeurope.cloudapp.azure.com/compute/hub/spawn/jun.xiong@bayer.com)."
     ]
    }
   ],
   "source": []
  }
 ],
 "metadata": {
  "kernelspec": {
   "display_name": "Python 3 (ipykernel)",
   "language": "python",
   "name": "python3"
  },
  "orig_nbformat": 4
 },
 "nbformat": 4,
 "nbformat_minor": 2
}
